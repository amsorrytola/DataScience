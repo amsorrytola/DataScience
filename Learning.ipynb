{
 "cells": [
  {
   "cell_type": "code",
   "execution_count": 22,
   "metadata": {},
   "outputs": [],
   "source": [
    "import pandas as pd\n",
    "import numpy as np\n",
    "import matplotlib.pyplot as plt\n",
    "import seaborn as sns"
   ]
  },
  {
   "cell_type": "code",
   "execution_count": 17,
   "metadata": {},
   "outputs": [],
   "source": [
    "dataset = pd.read_csv(\"titanic.csv\")"
   ]
  },
  {
   "cell_type": "code",
   "execution_count": 19,
   "metadata": {},
   "outputs": [
    {
     "data": {
      "text/html": [
       "<div>\n",
       "<style scoped>\n",
       "    .dataframe tbody tr th:only-of-type {\n",
       "        vertical-align: middle;\n",
       "    }\n",
       "\n",
       "    .dataframe tbody tr th {\n",
       "        vertical-align: top;\n",
       "    }\n",
       "\n",
       "    .dataframe thead th {\n",
       "        text-align: right;\n",
       "    }\n",
       "</style>\n",
       "<table border=\"1\" class=\"dataframe\">\n",
       "  <thead>\n",
       "    <tr style=\"text-align: right;\">\n",
       "      <th></th>\n",
       "      <th>survived</th>\n",
       "      <th>pclass</th>\n",
       "      <th>sex</th>\n",
       "      <th>age</th>\n",
       "      <th>sibsp</th>\n",
       "      <th>parch</th>\n",
       "      <th>fare</th>\n",
       "      <th>embarked</th>\n",
       "      <th>class</th>\n",
       "      <th>who</th>\n",
       "      <th>adult_male</th>\n",
       "      <th>deck</th>\n",
       "      <th>embark_to</th>\n",
       "      <th>alive</th>\n",
       "      <th>alone</th>\n",
       "    </tr>\n",
       "  </thead>\n",
       "  <tbody>\n",
       "    <tr>\n",
       "      <th>0</th>\n",
       "      <td>0</td>\n",
       "      <td>1</td>\n",
       "      <td>male</td>\n",
       "      <td>22</td>\n",
       "      <td>1</td>\n",
       "      <td>0</td>\n",
       "      <td>7.25</td>\n",
       "      <td>C</td>\n",
       "      <td>First</td>\n",
       "      <td>man</td>\n",
       "      <td>1</td>\n",
       "      <td>C</td>\n",
       "      <td>Southampton</td>\n",
       "      <td>no</td>\n",
       "      <td>0</td>\n",
       "    </tr>\n",
       "    <tr>\n",
       "      <th>1</th>\n",
       "      <td>1</td>\n",
       "      <td>2</td>\n",
       "      <td>female</td>\n",
       "      <td>38</td>\n",
       "      <td>0</td>\n",
       "      <td>0</td>\n",
       "      <td>71.83</td>\n",
       "      <td>S</td>\n",
       "      <td>Second</td>\n",
       "      <td>woman</td>\n",
       "      <td>0</td>\n",
       "      <td>D</td>\n",
       "      <td>Cherbourg</td>\n",
       "      <td>yes</td>\n",
       "      <td>1</td>\n",
       "    </tr>\n",
       "    <tr>\n",
       "      <th>2</th>\n",
       "      <td>1</td>\n",
       "      <td>3</td>\n",
       "      <td>female</td>\n",
       "      <td>26</td>\n",
       "      <td>1</td>\n",
       "      <td>0</td>\n",
       "      <td>8.05</td>\n",
       "      <td>S</td>\n",
       "      <td>Third</td>\n",
       "      <td>woman</td>\n",
       "      <td>0</td>\n",
       "      <td>E</td>\n",
       "      <td>Queenstown</td>\n",
       "      <td>yes</td>\n",
       "      <td>0</td>\n",
       "    </tr>\n",
       "    <tr>\n",
       "      <th>3</th>\n",
       "      <td>0</td>\n",
       "      <td>1</td>\n",
       "      <td>male</td>\n",
       "      <td>35</td>\n",
       "      <td>0</td>\n",
       "      <td>1</td>\n",
       "      <td>53.10</td>\n",
       "      <td>C</td>\n",
       "      <td>First</td>\n",
       "      <td>man</td>\n",
       "      <td>1</td>\n",
       "      <td>C</td>\n",
       "      <td>Southampton</td>\n",
       "      <td>no</td>\n",
       "      <td>1</td>\n",
       "    </tr>\n",
       "    <tr>\n",
       "      <th>4</th>\n",
       "      <td>1</td>\n",
       "      <td>2</td>\n",
       "      <td>female</td>\n",
       "      <td>35</td>\n",
       "      <td>0</td>\n",
       "      <td>1</td>\n",
       "      <td>8.05</td>\n",
       "      <td>C</td>\n",
       "      <td>Second</td>\n",
       "      <td>woman</td>\n",
       "      <td>0</td>\n",
       "      <td>D</td>\n",
       "      <td>Cherbourg</td>\n",
       "      <td>yes</td>\n",
       "      <td>0</td>\n",
       "    </tr>\n",
       "  </tbody>\n",
       "</table>\n",
       "</div>"
      ],
      "text/plain": [
       "   survived  pclass     sex  age  sibsp  parch   fare embarked   class    who  \\\n",
       "0         0       1    male   22      1      0   7.25        C   First    man   \n",
       "1         1       2  female   38      0      0  71.83        S  Second  woman   \n",
       "2         1       3  female   26      1      0   8.05        S   Third  woman   \n",
       "3         0       1    male   35      0      1  53.10        C   First    man   \n",
       "4         1       2  female   35      0      1   8.05        C  Second  woman   \n",
       "\n",
       "   adult_male deck    embark_to alive  alone  \n",
       "0           1    C  Southampton    no      0  \n",
       "1           0    D    Cherbourg   yes      1  \n",
       "2           0    E   Queenstown   yes      0  \n",
       "3           1    C  Southampton    no      1  \n",
       "4           0    D    Cherbourg   yes      0  "
      ]
     },
     "execution_count": 19,
     "metadata": {},
     "output_type": "execute_result"
    }
   ],
   "source": [
    "dataset.head(5)\n"
   ]
  },
  {
   "cell_type": "code",
   "execution_count": 28,
   "metadata": {},
   "outputs": [],
   "source": [
    "mn = np.mean(dataset[\"age\"])\n"
   ]
  },
  {
   "cell_type": "code",
   "execution_count": 32,
   "metadata": {},
   "outputs": [
    {
     "data": {
      "image/png": "[encoded data removed]",
      "text/plain": [
       "<Figure size 640x480 with 1 Axes>"
      ]
     },
     "metadata": {},
     "output_type": "display_data"
    }
   ],
   "source": [
    "\n",
    "sns.histplot(x=\"age\",data=(dataset),bins=[i for i in range(0,61,10)])\n",
    "plt.plot([mn for i in range(0,80)],[i for i in range(0,80)],c=\"red\")\n",
    "plt.show()"
   ]
  },
  {
   "cell_type": "code",
   "execution_count": 33,
   "metadata": {},
   "outputs": [],
   "source": [
    "# Median"
   ]
  },
  {
   "cell_type": "code",
   "execution_count": 35,
   "metadata": {},
   "outputs": [
    {
     "data": {
      "image/png": "[encoded data removed]",
      "text/plain": [
       "<Figure size 640x480 with 1 Axes>"
      ]
     },
     "metadata": {},
     "output_type": "display_data"
    }
   ],
   "source": [
    "md = np.median(dataset[\"fare\"])\n",
    "sns.histplot(x=\"age\",data=(dataset),bins=[i for i in range(0,61,10)])\n",
    "plt.plot([md for i in range(0,80)],[i for i in range(0,80)],c=\"red\")\n",
    "plt.show()"
   ]
  },
  {
   "cell_type": "code",
   "execution_count": 40,
   "metadata": {},
   "outputs": [
    {
     "data": {
      "text/plain": [
       "fare\n",
       "8.05     20\n",
       "7.25     10\n",
       "71.83    10\n",
       "53.10    10\n",
       "10.50    10\n",
       "7.73     10\n",
       "12.47    10\n",
       "39.69    10\n",
       "18.00    10\n",
       "Name: count, dtype: int64"
      ]
     },
     "execution_count": 40,
     "metadata": {},
     "output_type": "execute_result"
    }
   ],
   "source": [
    "#Mode\n",
    "mo = dataset[\"fare\"].mode()\n",
    "dataset[\"fare\"].value_counts()"
   ]
  },
  {
   "cell_type": "code",
   "execution_count": 41,
   "metadata": {},
   "outputs": [
    {
     "data": {
      "image/png": "[encoded data removed]",
      "text/plain": [
       "<Figure size 640x480 with 1 Axes>"
      ]
     },
     "metadata": {},
     "output_type": "display_data"
    }
   ],
   "source": [
    "sns.histplot(x=\"age\",data=(dataset),bins=[i for i in range(0,61,10)])\n",
    "plt.plot([mo for i in range(0,80)],[i for i in range(0,80)],c=\"red\")\n",
    "plt.show()"
   ]
  },
  {
   "cell_type": "code",
   "execution_count": 42,
   "metadata": {},
   "outputs": [
    {
     "data": {
      "text/plain": [
       "np.float64(26.5)"
      ]
     },
     "execution_count": 42,
     "metadata": {},
     "output_type": "execute_result"
    }
   ],
   "source": [
    "#Percentiles\n",
    "np.percentile(dataset[\"age\"],50)"
   ]
  },
  {
   "cell_type": "code",
   "execution_count": 43,
   "metadata": {},
   "outputs": [
    {
     "data": {
      "text/html": [
       "<div>\n",
       "<style scoped>\n",
       "    .dataframe tbody tr th:only-of-type {\n",
       "        vertical-align: middle;\n",
       "    }\n",
       "\n",
       "    .dataframe tbody tr th {\n",
       "        vertical-align: top;\n",
       "    }\n",
       "\n",
       "    .dataframe thead th {\n",
       "        text-align: right;\n",
       "    }\n",
       "</style>\n",
       "<table border=\"1\" class=\"dataframe\">\n",
       "  <thead>\n",
       "    <tr style=\"text-align: right;\">\n",
       "      <th></th>\n",
       "      <th>survived</th>\n",
       "      <th>pclass</th>\n",
       "      <th>age</th>\n",
       "      <th>sibsp</th>\n",
       "      <th>parch</th>\n",
       "      <th>fare</th>\n",
       "      <th>adult_male</th>\n",
       "      <th>alone</th>\n",
       "    </tr>\n",
       "  </thead>\n",
       "  <tbody>\n",
       "    <tr>\n",
       "      <th>count</th>\n",
       "      <td>100.000000</td>\n",
       "      <td>100.000000</td>\n",
       "      <td>100.000000</td>\n",
       "      <td>100.000000</td>\n",
       "      <td>100.000000</td>\n",
       "      <td>100.000000</td>\n",
       "      <td>100.000000</td>\n",
       "      <td>100.000000</td>\n",
       "    </tr>\n",
       "    <tr>\n",
       "      <th>mean</th>\n",
       "      <td>0.500000</td>\n",
       "      <td>1.900000</td>\n",
       "      <td>27.900000</td>\n",
       "      <td>0.600000</td>\n",
       "      <td>0.200000</td>\n",
       "      <td>23.667000</td>\n",
       "      <td>0.500000</td>\n",
       "      <td>0.500000</td>\n",
       "    </tr>\n",
       "    <tr>\n",
       "      <th>std</th>\n",
       "      <td>0.502519</td>\n",
       "      <td>0.834847</td>\n",
       "      <td>14.123911</td>\n",
       "      <td>0.666667</td>\n",
       "      <td>0.402015</td>\n",
       "      <td>21.984516</td>\n",
       "      <td>0.502519</td>\n",
       "      <td>0.502519</td>\n",
       "    </tr>\n",
       "    <tr>\n",
       "      <th>min</th>\n",
       "      <td>0.000000</td>\n",
       "      <td>1.000000</td>\n",
       "      <td>4.000000</td>\n",
       "      <td>0.000000</td>\n",
       "      <td>0.000000</td>\n",
       "      <td>7.250000</td>\n",
       "      <td>0.000000</td>\n",
       "      <td>0.000000</td>\n",
       "    </tr>\n",
       "    <tr>\n",
       "      <th>25%</th>\n",
       "      <td>0.000000</td>\n",
       "      <td>1.000000</td>\n",
       "      <td>20.000000</td>\n",
       "      <td>0.000000</td>\n",
       "      <td>0.000000</td>\n",
       "      <td>8.050000</td>\n",
       "      <td>0.000000</td>\n",
       "      <td>0.000000</td>\n",
       "    </tr>\n",
       "    <tr>\n",
       "      <th>50%</th>\n",
       "      <td>0.500000</td>\n",
       "      <td>2.000000</td>\n",
       "      <td>26.500000</td>\n",
       "      <td>0.500000</td>\n",
       "      <td>0.000000</td>\n",
       "      <td>11.485000</td>\n",
       "      <td>0.500000</td>\n",
       "      <td>0.500000</td>\n",
       "    </tr>\n",
       "    <tr>\n",
       "      <th>75%</th>\n",
       "      <td>1.000000</td>\n",
       "      <td>3.000000</td>\n",
       "      <td>35.000000</td>\n",
       "      <td>1.000000</td>\n",
       "      <td>0.000000</td>\n",
       "      <td>39.690000</td>\n",
       "      <td>1.000000</td>\n",
       "      <td>1.000000</td>\n",
       "    </tr>\n",
       "    <tr>\n",
       "      <th>max</th>\n",
       "      <td>1.000000</td>\n",
       "      <td>3.000000</td>\n",
       "      <td>58.000000</td>\n",
       "      <td>2.000000</td>\n",
       "      <td>1.000000</td>\n",
       "      <td>71.830000</td>\n",
       "      <td>1.000000</td>\n",
       "      <td>1.000000</td>\n",
       "    </tr>\n",
       "  </tbody>\n",
       "</table>\n",
       "</div>"
      ],
      "text/plain": [
       "         survived      pclass         age       sibsp       parch        fare  \\\n",
       "count  100.000000  100.000000  100.000000  100.000000  100.000000  100.000000   \n",
       "mean     0.500000    1.900000   27.900000    0.600000    0.200000   23.667000   \n",
       "std      0.502519    0.834847   14.123911    0.666667    0.402015   21.984516   \n",
       "min      0.000000    1.000000    4.000000    0.000000    0.000000    7.250000   \n",
       "25%      0.000000    1.000000   20.000000    0.000000    0.000000    8.050000   \n",
       "50%      0.500000    2.000000   26.500000    0.500000    0.000000   11.485000   \n",
       "75%      1.000000    3.000000   35.000000    1.000000    0.000000   39.690000   \n",
       "max      1.000000    3.000000   58.000000    2.000000    1.000000   71.830000   \n",
       "\n",
       "       adult_male       alone  \n",
       "count  100.000000  100.000000  \n",
       "mean     0.500000    0.500000  \n",
       "std      0.502519    0.502519  \n",
       "min      0.000000    0.000000  \n",
       "25%      0.000000    0.000000  \n",
       "50%      0.500000    0.500000  \n",
       "75%      1.000000    1.000000  \n",
       "max      1.000000    1.000000  "
      ]
     },
     "execution_count": 43,
     "metadata": {},
     "output_type": "execute_result"
    }
   ],
   "source": [
    "dataset.describe()"
   ]
  },
  {
   "cell_type": "code",
   "execution_count": 44,
   "metadata": {},
   "outputs": [
    {
     "data": {
      "image/png": "[encoded data removed]",
      "text/plain": [
       "<Figure size 640x480 with 1 Axes>"
      ]
     },
     "metadata": {},
     "output_type": "display_data"
    }
   ],
   "source": [
    "sns.boxplot(x=\"age\",data=dataset)\n",
    "plt.show()"
   ]
  },
  {
   "cell_type": "code",
   "execution_count": 45,
   "metadata": {},
   "outputs": [
    {
     "name": "stdout",
     "output_type": "stream",
     "text": [
      "<class 'pandas.core.frame.DataFrame'>\n",
      "RangeIndex: 100 entries, 0 to 99\n",
      "Data columns (total 15 columns):\n",
      " #   Column      Non-Null Count  Dtype  \n",
      "---  ------      --------------  -----  \n",
      " 0   survived    100 non-null    int64  \n",
      " 1   pclass      100 non-null    int64  \n",
      " 2   sex         100 non-null    object \n",
      " 3   age         100 non-null    int64  \n",
      " 4   sibsp       100 non-null    int64  \n",
      " 5   parch       100 non-null    int64  \n",
      " 6   fare        100 non-null    float64\n",
      " 7   embarked    100 non-null    object \n",
      " 8   class       100 non-null    object \n",
      " 9   who         100 non-null    object \n",
      " 10  adult_male  100 non-null    int64  \n",
      " 11  deck        100 non-null    object \n",
      " 12  embark_to   100 non-null    object \n",
      " 13  alive       100 non-null    object \n",
      " 14  alone       100 non-null    int64  \n",
      "dtypes: float64(1), int64(7), object(7)\n",
      "memory usage: 11.8+ KB\n"
     ]
    }
   ],
   "source": [
    "#Correlation\n",
    "dataset.info()"
   ]
  },
  {
   "cell_type": "code",
   "execution_count": 46,
   "metadata": {},
   "outputs": [
    {
     "data": {
      "text/html": [
       "<div>\n",
       "<style scoped>\n",
       "    .dataframe tbody tr th:only-of-type {\n",
       "        vertical-align: middle;\n",
       "    }\n",
       "\n",
       "    .dataframe tbody tr th {\n",
       "        vertical-align: top;\n",
       "    }\n",
       "\n",
       "    .dataframe thead th {\n",
       "        text-align: right;\n",
       "    }\n",
       "</style>\n",
       "<table border=\"1\" class=\"dataframe\">\n",
       "  <thead>\n",
       "    <tr style=\"text-align: right;\">\n",
       "      <th></th>\n",
       "      <th>survived</th>\n",
       "      <th>pclass</th>\n",
       "      <th>age</th>\n",
       "      <th>sibsp</th>\n",
       "      <th>parch</th>\n",
       "      <th>fare</th>\n",
       "      <th>adult_male</th>\n",
       "      <th>alone</th>\n",
       "    </tr>\n",
       "  </thead>\n",
       "  <tbody>\n",
       "    <tr>\n",
       "      <th>survived</th>\n",
       "      <td>1.000000e+00</td>\n",
       "      <td>0.361158</td>\n",
       "      <td>0.448299</td>\n",
       "      <td>5.021173e-18</td>\n",
       "      <td>3.469447e-18</td>\n",
       "      <td>0.155571</td>\n",
       "      <td>-1.000000e+00</td>\n",
       "      <td>-6.000000e-01</td>\n",
       "    </tr>\n",
       "    <tr>\n",
       "      <th>pclass</th>\n",
       "      <td>3.611576e-01</td>\n",
       "      <td>1.000000</td>\n",
       "      <td>0.410335</td>\n",
       "      <td>4.718701e-01</td>\n",
       "      <td>-2.407717e-01</td>\n",
       "      <td>-0.022966</td>\n",
       "      <td>-3.611576e-01</td>\n",
       "      <td>-1.203859e-01</td>\n",
       "    </tr>\n",
       "    <tr>\n",
       "      <th>age</th>\n",
       "      <td>4.482992e-01</td>\n",
       "      <td>0.410335</td>\n",
       "      <td>1.000000</td>\n",
       "      <td>4.677218e-01</td>\n",
       "      <td>2.526131e-01</td>\n",
       "      <td>0.565746</td>\n",
       "      <td>-4.482992e-01</td>\n",
       "      <td>-2.205917e-01</td>\n",
       "    </tr>\n",
       "    <tr>\n",
       "      <th>sibsp</th>\n",
       "      <td>5.021173e-18</td>\n",
       "      <td>0.471870</td>\n",
       "      <td>0.467722</td>\n",
       "      <td>1.000000e+00</td>\n",
       "      <td>-4.522670e-01</td>\n",
       "      <td>-0.129719</td>\n",
       "      <td>-3.347448e-18</td>\n",
       "      <td>-3.015113e-01</td>\n",
       "    </tr>\n",
       "    <tr>\n",
       "      <th>parch</th>\n",
       "      <td>3.469447e-18</td>\n",
       "      <td>-0.240772</td>\n",
       "      <td>0.252613</td>\n",
       "      <td>-4.522670e-01</td>\n",
       "      <td>1.000000e+00</td>\n",
       "      <td>0.157902</td>\n",
       "      <td>1.387779e-18</td>\n",
       "      <td>1.387779e-18</td>\n",
       "    </tr>\n",
       "    <tr>\n",
       "      <th>fare</th>\n",
       "      <td>1.555706e-01</td>\n",
       "      <td>-0.022966</td>\n",
       "      <td>0.565746</td>\n",
       "      <td>-1.297194e-01</td>\n",
       "      <td>1.579021e-01</td>\n",
       "      <td>1.000000</td>\n",
       "      <td>-1.555706e-01</td>\n",
       "      <td>4.348936e-01</td>\n",
       "    </tr>\n",
       "    <tr>\n",
       "      <th>adult_male</th>\n",
       "      <td>-1.000000e+00</td>\n",
       "      <td>-0.361158</td>\n",
       "      <td>-0.448299</td>\n",
       "      <td>-3.347448e-18</td>\n",
       "      <td>1.387779e-18</td>\n",
       "      <td>-0.155571</td>\n",
       "      <td>1.000000e+00</td>\n",
       "      <td>6.000000e-01</td>\n",
       "    </tr>\n",
       "    <tr>\n",
       "      <th>alone</th>\n",
       "      <td>-6.000000e-01</td>\n",
       "      <td>-0.120386</td>\n",
       "      <td>-0.220592</td>\n",
       "      <td>-3.015113e-01</td>\n",
       "      <td>1.387779e-18</td>\n",
       "      <td>0.434894</td>\n",
       "      <td>6.000000e-01</td>\n",
       "      <td>1.000000e+00</td>\n",
       "    </tr>\n",
       "  </tbody>\n",
       "</table>\n",
       "</div>"
      ],
      "text/plain": [
       "                survived    pclass       age         sibsp         parch  \\\n",
       "survived    1.000000e+00  0.361158  0.448299  5.021173e-18  3.469447e-18   \n",
       "pclass      3.611576e-01  1.000000  0.410335  4.718701e-01 -2.407717e-01   \n",
       "age         4.482992e-01  0.410335  1.000000  4.677218e-01  2.526131e-01   \n",
       "sibsp       5.021173e-18  0.471870  0.467722  1.000000e+00 -4.522670e-01   \n",
       "parch       3.469447e-18 -0.240772  0.252613 -4.522670e-01  1.000000e+00   \n",
       "fare        1.555706e-01 -0.022966  0.565746 -1.297194e-01  1.579021e-01   \n",
       "adult_male -1.000000e+00 -0.361158 -0.448299 -3.347448e-18  1.387779e-18   \n",
       "alone      -6.000000e-01 -0.120386 -0.220592 -3.015113e-01  1.387779e-18   \n",
       "\n",
       "                fare    adult_male         alone  \n",
       "survived    0.155571 -1.000000e+00 -6.000000e-01  \n",
       "pclass     -0.022966 -3.611576e-01 -1.203859e-01  \n",
       "age         0.565746 -4.482992e-01 -2.205917e-01  \n",
       "sibsp      -0.129719 -3.347448e-18 -3.015113e-01  \n",
       "parch       0.157902  1.387779e-18  1.387779e-18  \n",
       "fare        1.000000 -1.555706e-01  4.348936e-01  \n",
       "adult_male -0.155571  1.000000e+00  6.000000e-01  \n",
       "alone       0.434894  6.000000e-01  1.000000e+00  "
      ]
     },
     "execution_count": 46,
     "metadata": {},
     "output_type": "execute_result"
    }
   ],
   "source": [
    "dataset.select_dtypes([\"float64\",\"int64\"]).corr()"
   ]
  },
  {
   "cell_type": "code",
   "execution_count": 47,
   "metadata": {},
   "outputs": [
    {
     "data": {
      "image/png": "[encoded data removed]",
      "text/plain": [
       "<Figure size 640x480 with 2 Axes>"
      ]
     },
     "metadata": {},
     "output_type": "display_data"
    }
   ],
   "source": [
    "sns.heatmap(dataset.select_dtypes([\"float64\",\"int64\"]).corr())\n",
    "plt.show()"
   ]
  },
  {
   "cell_type": "code",
   "execution_count": null,
   "metadata": {},
   "outputs": [],
   "source": []
  }
 ],
 "metadata": {
  "kernelspec": {
   "display_name": "Python 3",
   "language": "python",
   "name": "python3"
  },
  "language_info": {
   "codemirror_mode": {
    "name": "ipython",
    "version": 3
   },
   "file_extension": ".py",
   "mimetype": "text/x-python",
   "name": "python",
   "nbconvert_exporter": "python",
   "pygments_lexer": "ipython3",
   "version": "3.10.12"
  }
 },
 "nbformat": 4,
 "nbformat_minor": 2
}
